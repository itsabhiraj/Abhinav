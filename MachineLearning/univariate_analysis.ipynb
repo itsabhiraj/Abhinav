{
 "cells": [
  {
   "cell_type": "code",
   "execution_count": 1,
   "metadata": {},
   "outputs": [],
   "source": [
    "import pandas as pd\n",
    "import numpy as np\n",
    "import seaborn as sns\n",
    "import matplotlib.pyplot as plt"
   ]
  },
  {
   "cell_type": "code",
   "execution_count": 2,
   "metadata": {},
   "outputs": [
    {
     "data": {
      "text/html": [
       "<div>\n",
       "<style scoped>\n",
       "    .dataframe tbody tr th:only-of-type {\n",
       "        vertical-align: middle;\n",
       "    }\n",
       "\n",
       "    .dataframe tbody tr th {\n",
       "        vertical-align: top;\n",
       "    }\n",
       "\n",
       "    .dataframe thead th {\n",
       "        text-align: right;\n",
       "    }\n",
       "</style>\n",
       "<table border=\"1\" class=\"dataframe\">\n",
       "  <thead>\n",
       "    <tr style=\"text-align: right;\">\n",
       "      <th></th>\n",
       "      <th>PassengerId</th>\n",
       "      <th>Survived</th>\n",
       "      <th>Pclass</th>\n",
       "      <th>Name</th>\n",
       "      <th>Sex</th>\n",
       "      <th>Age</th>\n",
       "      <th>SibSp</th>\n",
       "      <th>Parch</th>\n",
       "      <th>Ticket</th>\n",
       "      <th>Fare</th>\n",
       "      <th>Cabin</th>\n",
       "      <th>Embarked</th>\n",
       "    </tr>\n",
       "  </thead>\n",
       "  <tbody>\n",
       "    <tr>\n",
       "      <th>0</th>\n",
       "      <td>1</td>\n",
       "      <td>0</td>\n",
       "      <td>3</td>\n",
       "      <td>Braund, Mr. Owen Harris</td>\n",
       "      <td>male</td>\n",
       "      <td>22.0</td>\n",
       "      <td>1</td>\n",
       "      <td>0</td>\n",
       "      <td>A/5 21171</td>\n",
       "      <td>7.2500</td>\n",
       "      <td>NaN</td>\n",
       "      <td>S</td>\n",
       "    </tr>\n",
       "    <tr>\n",
       "      <th>1</th>\n",
       "      <td>2</td>\n",
       "      <td>1</td>\n",
       "      <td>1</td>\n",
       "      <td>Cumings, Mrs. John Bradley (Florence Briggs Th...</td>\n",
       "      <td>female</td>\n",
       "      <td>38.0</td>\n",
       "      <td>1</td>\n",
       "      <td>0</td>\n",
       "      <td>PC 17599</td>\n",
       "      <td>71.2833</td>\n",
       "      <td>C85</td>\n",
       "      <td>C</td>\n",
       "    </tr>\n",
       "    <tr>\n",
       "      <th>2</th>\n",
       "      <td>3</td>\n",
       "      <td>1</td>\n",
       "      <td>3</td>\n",
       "      <td>Heikkinen, Miss. Laina</td>\n",
       "      <td>female</td>\n",
       "      <td>26.0</td>\n",
       "      <td>0</td>\n",
       "      <td>0</td>\n",
       "      <td>STON/O2. 3101282</td>\n",
       "      <td>7.9250</td>\n",
       "      <td>NaN</td>\n",
       "      <td>S</td>\n",
       "    </tr>\n",
       "    <tr>\n",
       "      <th>3</th>\n",
       "      <td>4</td>\n",
       "      <td>1</td>\n",
       "      <td>1</td>\n",
       "      <td>Futrelle, Mrs. Jacques Heath (Lily May Peel)</td>\n",
       "      <td>female</td>\n",
       "      <td>35.0</td>\n",
       "      <td>1</td>\n",
       "      <td>0</td>\n",
       "      <td>113803</td>\n",
       "      <td>53.1000</td>\n",
       "      <td>C123</td>\n",
       "      <td>S</td>\n",
       "    </tr>\n",
       "    <tr>\n",
       "      <th>4</th>\n",
       "      <td>5</td>\n",
       "      <td>0</td>\n",
       "      <td>3</td>\n",
       "      <td>Allen, Mr. William Henry</td>\n",
       "      <td>male</td>\n",
       "      <td>35.0</td>\n",
       "      <td>0</td>\n",
       "      <td>0</td>\n",
       "      <td>373450</td>\n",
       "      <td>8.0500</td>\n",
       "      <td>NaN</td>\n",
       "      <td>S</td>\n",
       "    </tr>\n",
       "  </tbody>\n",
       "</table>\n",
       "</div>"
      ],
      "text/plain": [
       "   PassengerId  Survived  Pclass  \\\n",
       "0            1         0       3   \n",
       "1            2         1       1   \n",
       "2            3         1       3   \n",
       "3            4         1       1   \n",
       "4            5         0       3   \n",
       "\n",
       "                                                Name     Sex   Age  SibSp  \\\n",
       "0                            Braund, Mr. Owen Harris    male  22.0      1   \n",
       "1  Cumings, Mrs. John Bradley (Florence Briggs Th...  female  38.0      1   \n",
       "2                             Heikkinen, Miss. Laina  female  26.0      0   \n",
       "3       Futrelle, Mrs. Jacques Heath (Lily May Peel)  female  35.0      1   \n",
       "4                           Allen, Mr. William Henry    male  35.0      0   \n",
       "\n",
       "   Parch            Ticket     Fare Cabin Embarked  \n",
       "0      0         A/5 21171   7.2500   NaN        S  \n",
       "1      0          PC 17599  71.2833   C85        C  \n",
       "2      0  STON/O2. 3101282   7.9250   NaN        S  \n",
       "3      0            113803  53.1000  C123        S  \n",
       "4      0            373450   8.0500   NaN        S  "
      ]
     },
     "execution_count": 2,
     "metadata": {},
     "output_type": "execute_result"
    }
   ],
   "source": [
    "df = pd.read_csv('train.csv')\n",
    "df.head()"
   ]
  },
  {
   "cell_type": "markdown",
   "metadata": {},
   "source": [
    "Countplot in seaborn"
   ]
  },
  {
   "cell_type": "code",
   "execution_count": 3,
   "metadata": {},
   "outputs": [
    {
     "name": "stderr",
     "output_type": "stream",
     "text": [
      "/home/codespace/.local/lib/python3.10/site-packages/seaborn/_oldcore.py:1498: FutureWarning: is_categorical_dtype is deprecated and will be removed in a future version. Use isinstance(dtype, CategoricalDtype) instead\n",
      "  if pd.api.types.is_categorical_dtype(vector):\n",
      "/home/codespace/.local/lib/python3.10/site-packages/seaborn/_oldcore.py:1119: FutureWarning: use_inf_as_na option is deprecated and will be removed in a future version. Convert inf values to NaN before operating instead.\n",
      "  with pd.option_context('mode.use_inf_as_na', True):\n"
     ]
    },
    {
     "data": {
      "text/plain": [
       "<Axes: xlabel='Pclass', ylabel='Count'>"
      ]
     },
     "execution_count": 3,
     "metadata": {},
     "output_type": "execute_result"
    },
    {
     "data": {
      "image/png": "[encoded data removed]",
      "text/plain": [
       "<Figure size 640x480 with 1 Axes>"
      ]
     },
     "metadata": {},
     "output_type": "display_data"
    }
   ],
   "source": [
    "sns.histplot(df['Pclass'])\n"
   ]
  },
  {
   "cell_type": "code",
   "execution_count": 4,
   "metadata": {},
   "outputs": [
    {
     "name": "stderr",
     "output_type": "stream",
     "text": [
      "/home/codespace/.local/lib/python3.10/site-packages/seaborn/_oldcore.py:1498: FutureWarning: is_categorical_dtype is deprecated and will be removed in a future version. Use isinstance(dtype, CategoricalDtype) instead\n",
      "  if pd.api.types.is_categorical_dtype(vector):\n",
      "/home/codespace/.local/lib/python3.10/site-packages/seaborn/_oldcore.py:1119: FutureWarning: use_inf_as_na option is deprecated and will be removed in a future version. Convert inf values to NaN before operating instead.\n",
      "  with pd.option_context('mode.use_inf_as_na', True):\n"
     ]
    },
    {
     "data": {
      "text/plain": [
       "<Axes: xlabel='Survived', ylabel='Count'>"
      ]
     },
     "execution_count": 4,
     "metadata": {},
     "output_type": "execute_result"
    },
    {
     "data": {
      "image/png": "[encoded data removed]",
      "text/plain": [
       "<Figure size 640x480 with 1 Axes>"
      ]
     },
     "metadata": {},
     "output_type": "display_data"
    }
   ],
   "source": [
    "sns.histplot(df['Survived'], kde=True)"
   ]
  },
  {
   "cell_type": "code",
   "execution_count": 5,
   "metadata": {},
   "outputs": [
    {
     "data": {
      "text/plain": [
       "<Axes: ylabel='count'>"
      ]
     },
     "execution_count": 5,
     "metadata": {},
     "output_type": "execute_result"
    },
    {
     "data": {
      "image/png": "[encoded data removed]",
      "text/plain": [
       "<Figure size 640x480 with 1 Axes>"
      ]
     },
     "metadata": {},
     "output_type": "display_data"
    }
   ],
   "source": [
    "df['Sex'].value_counts().plot(kind='pie', autopct='%.2f')"
   ]
  },
  {
   "cell_type": "code",
   "execution_count": 6,
   "metadata": {},
   "outputs": [
    {
     "data": {
      "text/plain": [
       "<Axes: xlabel='Pclass'>"
      ]
     },
     "execution_count": 6,
     "metadata": {},
     "output_type": "execute_result"
    },
    {
     "data": {
      "image/png": "[encoded data removed]",
      "text/plain": [
       "<Figure size 640x480 with 1 Axes>"
      ]
     },
     "metadata": {},
     "output_type": "display_data"
    }
   ],
   "source": [
    "df['Pclass'].value_counts().plot(kind='bar')"
   ]
  },
  {
   "cell_type": "code",
   "execution_count": 7,
   "metadata": {},
   "outputs": [
    {
     "data": {
      "text/plain": [
       "(7888, 29)"
      ]
     },
     "execution_count": 7,
     "metadata": {},
     "output_type": "execute_result"
    }
   ],
   "source": [
    "df = pd.read_csv('accidentsData.csv')\n",
    "df.shape"
   ]
  },
  {
   "cell_type": "code",
   "execution_count": 8,
   "metadata": {},
   "outputs": [
    {
     "data": {
      "text/html": [
       "<div>\n",
       "<style scoped>\n",
       "    .dataframe tbody tr th:only-of-type {\n",
       "        vertical-align: middle;\n",
       "    }\n",
       "\n",
       "    .dataframe tbody tr th {\n",
       "        vertical-align: top;\n",
       "    }\n",
       "\n",
       "    .dataframe thead th {\n",
       "        text-align: right;\n",
       "    }\n",
       "</style>\n",
       "<table border=\"1\" class=\"dataframe\">\n",
       "  <thead>\n",
       "    <tr style=\"text-align: right;\">\n",
       "      <th></th>\n",
       "      <th>Unnamed: 0</th>\n",
       "      <th>coordL</th>\n",
       "      <th>coordW</th>\n",
       "      <th>place</th>\n",
       "      <th>district</th>\n",
       "      <th>DTPType</th>\n",
       "      <th>date</th>\n",
       "      <th>real_date</th>\n",
       "      <th>month</th>\n",
       "      <th>season</th>\n",
       "      <th>...</th>\n",
       "      <th>violations</th>\n",
       "      <th>viol_list</th>\n",
       "      <th>violationsAdditional</th>\n",
       "      <th>alco</th>\n",
       "      <th>privod</th>\n",
       "      <th>traffic_regime</th>\n",
       "      <th>pokritie</th>\n",
       "      <th>neispravnosti</th>\n",
       "      <th>safety_belt</th>\n",
       "      <th>sublocality</th>\n",
       "    </tr>\n",
       "  </thead>\n",
       "  <tbody>\n",
       "    <tr>\n",
       "      <th>0</th>\n",
       "      <td>0</td>\n",
       "      <td>37.464817</td>\n",
       "      <td>55.758116</td>\n",
       "      <td>ул Мнёвники Нижн.</td>\n",
       "      <td>Хорошево-мневники</td>\n",
       "      <td>Наезд на препятствие</td>\n",
       "      <td>01.01.2020</td>\n",
       "      <td>2020-01-01 00:00:00</td>\n",
       "      <td>1</td>\n",
       "      <td>Winter</td>\n",
       "      <td>...</td>\n",
       "      <td>Несоответствие скорости конкретным условиям дв...</td>\n",
       "      <td>['Несоответствие скорости конкретным условиям ...</td>\n",
       "      <td>Нет нарушений</td>\n",
       "      <td>NaN</td>\n",
       "      <td>С передним приводом</td>\n",
       "      <td>Режим движения не изменялся</td>\n",
       "      <td>Обработанное противогололедными материалами</td>\n",
       "      <td>Технические неисправности отсутствуют</td>\n",
       "      <td>Нет</td>\n",
       "      <td>Северо-Западный административный округ</td>\n",
       "    </tr>\n",
       "    <tr>\n",
       "      <th>1</th>\n",
       "      <td>1</td>\n",
       "      <td>37.388953</td>\n",
       "      <td>55.811338</td>\n",
       "      <td>Московская кольцевая автомобильная дорога (МКА...</td>\n",
       "      <td>Строгино</td>\n",
       "      <td>Наезд на стоящее ТС</td>\n",
       "      <td>01.01.2020</td>\n",
       "      <td>2020-01-01 00:00:00</td>\n",
       "      <td>1</td>\n",
       "      <td>Winter</td>\n",
       "      <td>...</td>\n",
       "      <td>Несоответствие скорости конкретным условиям дв...</td>\n",
       "      <td>['Несоответствие скорости конкретным условиям ...</td>\n",
       "      <td>Нет нарушений</td>\n",
       "      <td>NaN</td>\n",
       "      <td>С передним приводом;С передним приводом</td>\n",
       "      <td>Движение частично перекрыто</td>\n",
       "      <td>Сухое</td>\n",
       "      <td>Технические неисправности отсутствуют;Техничес...</td>\n",
       "      <td>Нет</td>\n",
       "      <td>Северо-Западный административный округ</td>\n",
       "    </tr>\n",
       "    <tr>\n",
       "      <th>2</th>\n",
       "      <td>2</td>\n",
       "      <td>37.623153</td>\n",
       "      <td>55.866787</td>\n",
       "      <td>Юрловский пр-д</td>\n",
       "      <td>Отрадное</td>\n",
       "      <td>Наезд на пешехода</td>\n",
       "      <td>01.01.2020</td>\n",
       "      <td>2020-01-01 00:00:00</td>\n",
       "      <td>1</td>\n",
       "      <td>Winter</td>\n",
       "      <td>...</td>\n",
       "      <td>Несоблюдение очередности проезда</td>\n",
       "      <td>['Несоблюдение очередности проезда']</td>\n",
       "      <td>Другие нарушения ПДД водителем</td>\n",
       "      <td>NaN</td>\n",
       "      <td>Иное расположение рулевого управления</td>\n",
       "      <td>Режим движения не изменялся</td>\n",
       "      <td>Сухое</td>\n",
       "      <td>Технические неисправности отсутствуют</td>\n",
       "      <td>Нет</td>\n",
       "      <td>Северо-Восточный административный округ</td>\n",
       "    </tr>\n",
       "    <tr>\n",
       "      <th>3</th>\n",
       "      <td>3</td>\n",
       "      <td>37.588413</td>\n",
       "      <td>55.660576</td>\n",
       "      <td>ул Болотниковская</td>\n",
       "      <td>Зюзино</td>\n",
       "      <td>Столкновение</td>\n",
       "      <td>01.01.2020</td>\n",
       "      <td>2020-01-01 00:00:00</td>\n",
       "      <td>1</td>\n",
       "      <td>Winter</td>\n",
       "      <td>...</td>\n",
       "      <td>Нет нарушений;Несоблюдение очередности проезда</td>\n",
       "      <td>['Нет нарушений', 'Несоблюдение очередности пр...</td>\n",
       "      <td>Нет нарушений;Нет нарушений</td>\n",
       "      <td>;</td>\n",
       "      <td>С передним приводом;С передним приводом</td>\n",
       "      <td>Движение частично перекрыто</td>\n",
       "      <td>Мокрое</td>\n",
       "      <td>Технические неисправности отсутствуют;Техничес...</td>\n",
       "      <td>Нет;Нет</td>\n",
       "      <td>Юго-Западный административный округ</td>\n",
       "    </tr>\n",
       "    <tr>\n",
       "      <th>4</th>\n",
       "      <td>4</td>\n",
       "      <td>37.636467</td>\n",
       "      <td>55.805098</td>\n",
       "      <td>пр-кт Мира</td>\n",
       "      <td>Алексеевский</td>\n",
       "      <td>Падение пассажира</td>\n",
       "      <td>01.01.2020</td>\n",
       "      <td>2020-01-01 00:00:00</td>\n",
       "      <td>1</td>\n",
       "      <td>Winter</td>\n",
       "      <td>...</td>\n",
       "      <td>Неподача или неправильная подача сигналов пово...</td>\n",
       "      <td>['Неподача или неправильная подача сигналов по...</td>\n",
       "      <td>Нарушение правил перевозки людей;Нет нарушений</td>\n",
       "      <td>;</td>\n",
       "      <td>С передним приводом</td>\n",
       "      <td>Режим движения не изменялся</td>\n",
       "      <td>Сухое</td>\n",
       "      <td>Технические неисправности отсутствуют</td>\n",
       "      <td>Нет;Нет</td>\n",
       "      <td>Северо-Восточный административный округ</td>\n",
       "    </tr>\n",
       "  </tbody>\n",
       "</table>\n",
       "<p>5 rows × 29 columns</p>\n",
       "</div>"
      ],
      "text/plain": [
       "   Unnamed: 0     coordL     coordW  \\\n",
       "0           0  37.464817  55.758116   \n",
       "1           1  37.388953  55.811338   \n",
       "2           2  37.623153  55.866787   \n",
       "3           3  37.588413  55.660576   \n",
       "4           4  37.636467  55.805098   \n",
       "\n",
       "                                               place           district  \\\n",
       "0                                  ул Мнёвники Нижн.  Хорошево-мневники   \n",
       "1  Московская кольцевая автомобильная дорога (МКА...           Строгино   \n",
       "2                                     Юрловский пр-д           Отрадное   \n",
       "3                                  ул Болотниковская             Зюзино   \n",
       "4                                         пр-кт Мира       Алексеевский   \n",
       "\n",
       "                DTPType        date            real_date  month  season  ...  \\\n",
       "0  Наезд на препятствие  01.01.2020  2020-01-01 00:00:00      1  Winter  ...   \n",
       "1   Наезд на стоящее ТС  01.01.2020  2020-01-01 00:00:00      1  Winter  ...   \n",
       "2     Наезд на пешехода  01.01.2020  2020-01-01 00:00:00      1  Winter  ...   \n",
       "3          Столкновение  01.01.2020  2020-01-01 00:00:00      1  Winter  ...   \n",
       "4     Падение пассажира  01.01.2020  2020-01-01 00:00:00      1  Winter  ...   \n",
       "\n",
       "                                          violations  \\\n",
       "0  Несоответствие скорости конкретным условиям дв...   \n",
       "1  Несоответствие скорости конкретным условиям дв...   \n",
       "2                   Несоблюдение очередности проезда   \n",
       "3     Нет нарушений;Несоблюдение очередности проезда   \n",
       "4  Неподача или неправильная подача сигналов пово...   \n",
       "\n",
       "                                           viol_list  \\\n",
       "0  ['Несоответствие скорости конкретным условиям ...   \n",
       "1  ['Несоответствие скорости конкретным условиям ...   \n",
       "2               ['Несоблюдение очередности проезда']   \n",
       "3  ['Нет нарушений', 'Несоблюдение очередности пр...   \n",
       "4  ['Неподача или неправильная подача сигналов по...   \n",
       "\n",
       "                             violationsAdditional  alco  \\\n",
       "0                                   Нет нарушений   NaN   \n",
       "1                                   Нет нарушений   NaN   \n",
       "2                  Другие нарушения ПДД водителем   NaN   \n",
       "3                     Нет нарушений;Нет нарушений     ;   \n",
       "4  Нарушение правил перевозки людей;Нет нарушений     ;   \n",
       "\n",
       "                                    privod               traffic_regime  \\\n",
       "0                      С передним приводом  Режим движения не изменялся   \n",
       "1  С передним приводом;С передним приводом  Движение частично перекрыто   \n",
       "2    Иное расположение рулевого управления  Режим движения не изменялся   \n",
       "3  С передним приводом;С передним приводом  Движение частично перекрыто   \n",
       "4                      С передним приводом  Режим движения не изменялся   \n",
       "\n",
       "                                      pokritie  \\\n",
       "0  Обработанное противогололедными материалами   \n",
       "1                                        Сухое   \n",
       "2                                        Сухое   \n",
       "3                                       Мокрое   \n",
       "4                                        Сухое   \n",
       "\n",
       "                                       neispravnosti safety_belt  \\\n",
       "0              Технические неисправности отсутствуют         Нет   \n",
       "1  Технические неисправности отсутствуют;Техничес...         Нет   \n",
       "2              Технические неисправности отсутствуют         Нет   \n",
       "3  Технические неисправности отсутствуют;Техничес...     Нет;Нет   \n",
       "4              Технические неисправности отсутствуют     Нет;Нет   \n",
       "\n",
       "                               sublocality  \n",
       "0   Северо-Западный административный округ  \n",
       "1   Северо-Западный административный округ  \n",
       "2  Северо-Восточный административный округ  \n",
       "3      Юго-Западный административный округ  \n",
       "4  Северо-Восточный административный округ  \n",
       "\n",
       "[5 rows x 29 columns]"
      ]
     },
     "execution_count": 8,
     "metadata": {},
     "output_type": "execute_result"
    }
   ],
   "source": [
    "df.head()"
   ]
  },
  {
   "cell_type": "code",
   "execution_count": 9,
   "metadata": {},
   "outputs": [
    {
     "name": "stdout",
     "output_type": "stream",
     "text": [
      "<class 'pandas.core.frame.DataFrame'>\n",
      "RangeIndex: 7888 entries, 0 to 7887\n",
      "Data columns (total 29 columns):\n",
      " #   Column                Non-Null Count  Dtype  \n",
      "---  ------                --------------  -----  \n",
      " 0   Unnamed: 0            7888 non-null   int64  \n",
      " 1   coordL                7888 non-null   float64\n",
      " 2   coordW                7888 non-null   float64\n",
      " 3   place                 7888 non-null   object \n",
      " 4   district              7659 non-null   object \n",
      " 5   DTPType               7888 non-null   object \n",
      " 6   date                  7888 non-null   object \n",
      " 7   real_date             7888 non-null   object \n",
      " 8   month                 7888 non-null   int64  \n",
      " 9   season                7888 non-null   object \n",
      " 10  NVehicles             7888 non-null   int64  \n",
      " 11  NPatricipants         7888 non-null   int64  \n",
      " 12  NInjured              7888 non-null   int64  \n",
      " 13  NFatal                7888 non-null   int64  \n",
      " 14  additionalFactor      7888 non-null   object \n",
      " 15  lightConditions       7888 non-null   object \n",
      " 16  weatherConditions     7888 non-null   object \n",
      " 17  placeConditions       7888 non-null   object \n",
      " 18  closeObjects          7888 non-null   object \n",
      " 19  violations            7888 non-null   object \n",
      " 20  viol_list             7888 non-null   object \n",
      " 21  violationsAdditional  7888 non-null   object \n",
      " 22  alco                  1595 non-null   object \n",
      " 23  privod                7845 non-null   object \n",
      " 24  traffic_regime        7888 non-null   object \n",
      " 25  pokritie              7888 non-null   object \n",
      " 26  neispravnosti         7888 non-null   object \n",
      " 27  safety_belt           7888 non-null   object \n",
      " 28  sublocality           7659 non-null   object \n",
      "dtypes: float64(2), int64(6), object(21)\n",
      "memory usage: 1.7+ MB\n"
     ]
    }
   ],
   "source": [
    "df.info()"
   ]
  },
  {
   "cell_type": "code",
   "execution_count": 10,
   "metadata": {},
   "outputs": [
    {
     "data": {
      "text/plain": [
       "Unnamed: 0                 0\n",
       "coordL                     0\n",
       "coordW                     0\n",
       "place                      0\n",
       "district                 229\n",
       "DTPType                    0\n",
       "date                       0\n",
       "real_date                  0\n",
       "month                      0\n",
       "season                     0\n",
       "NVehicles                  0\n",
       "NPatricipants              0\n",
       "NInjured                   0\n",
       "NFatal                     0\n",
       "additionalFactor           0\n",
       "lightConditions            0\n",
       "weatherConditions          0\n",
       "placeConditions            0\n",
       "closeObjects               0\n",
       "violations                 0\n",
       "viol_list                  0\n",
       "violationsAdditional       0\n",
       "alco                    6293\n",
       "privod                    43\n",
       "traffic_regime             0\n",
       "pokritie                   0\n",
       "neispravnosti              0\n",
       "safety_belt                0\n",
       "sublocality              229\n",
       "dtype: int64"
      ]
     },
     "execution_count": 10,
     "metadata": {},
     "output_type": "execute_result"
    }
   ],
   "source": [
    "df.isnull().sum()"
   ]
  },
  {
   "cell_type": "code",
   "execution_count": 11,
   "metadata": {},
   "outputs": [
    {
     "data": {
      "text/html": [
       "<div>\n",
       "<style scoped>\n",
       "    .dataframe tbody tr th:only-of-type {\n",
       "        vertical-align: middle;\n",
       "    }\n",
       "\n",
       "    .dataframe tbody tr th {\n",
       "        vertical-align: top;\n",
       "    }\n",
       "\n",
       "    .dataframe thead th {\n",
       "        text-align: right;\n",
       "    }\n",
       "</style>\n",
       "<table border=\"1\" class=\"dataframe\">\n",
       "  <thead>\n",
       "    <tr style=\"text-align: right;\">\n",
       "      <th></th>\n",
       "      <th>Unnamed: 0</th>\n",
       "      <th>coordL</th>\n",
       "      <th>coordW</th>\n",
       "      <th>month</th>\n",
       "      <th>NVehicles</th>\n",
       "      <th>NPatricipants</th>\n",
       "      <th>NInjured</th>\n",
       "      <th>NFatal</th>\n",
       "    </tr>\n",
       "  </thead>\n",
       "  <tbody>\n",
       "    <tr>\n",
       "      <th>count</th>\n",
       "      <td>7888.000000</td>\n",
       "      <td>7888.000000</td>\n",
       "      <td>7888.000000</td>\n",
       "      <td>7888.000000</td>\n",
       "      <td>7888.000000</td>\n",
       "      <td>7888.000000</td>\n",
       "      <td>7888.000000</td>\n",
       "      <td>7888.000000</td>\n",
       "    </tr>\n",
       "    <tr>\n",
       "      <th>mean</th>\n",
       "      <td>3943.500000</td>\n",
       "      <td>37.579979</td>\n",
       "      <td>55.735296</td>\n",
       "      <td>6.642495</td>\n",
       "      <td>1.751648</td>\n",
       "      <td>2.407074</td>\n",
       "      <td>1.125127</td>\n",
       "      <td>0.046400</td>\n",
       "    </tr>\n",
       "    <tr>\n",
       "      <th>std</th>\n",
       "      <td>2277.213795</td>\n",
       "      <td>0.162225</td>\n",
       "      <td>0.110619</td>\n",
       "      <td>3.560555</td>\n",
       "      <td>0.808889</td>\n",
       "      <td>0.886044</td>\n",
       "      <td>0.569222</td>\n",
       "      <td>0.231592</td>\n",
       "    </tr>\n",
       "    <tr>\n",
       "      <th>min</th>\n",
       "      <td>0.000000</td>\n",
       "      <td>36.838896</td>\n",
       "      <td>55.174567</td>\n",
       "      <td>1.000000</td>\n",
       "      <td>1.000000</td>\n",
       "      <td>1.000000</td>\n",
       "      <td>0.000000</td>\n",
       "      <td>0.000000</td>\n",
       "    </tr>\n",
       "    <tr>\n",
       "      <th>25%</th>\n",
       "      <td>1971.750000</td>\n",
       "      <td>37.485909</td>\n",
       "      <td>55.663384</td>\n",
       "      <td>3.000000</td>\n",
       "      <td>1.000000</td>\n",
       "      <td>2.000000</td>\n",
       "      <td>1.000000</td>\n",
       "      <td>0.000000</td>\n",
       "    </tr>\n",
       "    <tr>\n",
       "      <th>50%</th>\n",
       "      <td>3943.500000</td>\n",
       "      <td>37.586540</td>\n",
       "      <td>55.741103</td>\n",
       "      <td>7.000000</td>\n",
       "      <td>2.000000</td>\n",
       "      <td>2.000000</td>\n",
       "      <td>1.000000</td>\n",
       "      <td>0.000000</td>\n",
       "    </tr>\n",
       "    <tr>\n",
       "      <th>75%</th>\n",
       "      <td>5915.250000</td>\n",
       "      <td>37.693276</td>\n",
       "      <td>55.810018</td>\n",
       "      <td>10.000000</td>\n",
       "      <td>2.000000</td>\n",
       "      <td>3.000000</td>\n",
       "      <td>1.000000</td>\n",
       "      <td>0.000000</td>\n",
       "    </tr>\n",
       "    <tr>\n",
       "      <th>max</th>\n",
       "      <td>7887.000000</td>\n",
       "      <td>37.952356</td>\n",
       "      <td>56.017060</td>\n",
       "      <td>12.000000</td>\n",
       "      <td>8.000000</td>\n",
       "      <td>21.000000</td>\n",
       "      <td>19.000000</td>\n",
       "      <td>3.000000</td>\n",
       "    </tr>\n",
       "  </tbody>\n",
       "</table>\n",
       "</div>"
      ],
      "text/plain": [
       "        Unnamed: 0       coordL       coordW        month    NVehicles  \\\n",
       "count  7888.000000  7888.000000  7888.000000  7888.000000  7888.000000   \n",
       "mean   3943.500000    37.579979    55.735296     6.642495     1.751648   \n",
       "std    2277.213795     0.162225     0.110619     3.560555     0.808889   \n",
       "min       0.000000    36.838896    55.174567     1.000000     1.000000   \n",
       "25%    1971.750000    37.485909    55.663384     3.000000     1.000000   \n",
       "50%    3943.500000    37.586540    55.741103     7.000000     2.000000   \n",
       "75%    5915.250000    37.693276    55.810018    10.000000     2.000000   \n",
       "max    7887.000000    37.952356    56.017060    12.000000     8.000000   \n",
       "\n",
       "       NPatricipants     NInjured       NFatal  \n",
       "count    7888.000000  7888.000000  7888.000000  \n",
       "mean        2.407074     1.125127     0.046400  \n",
       "std         0.886044     0.569222     0.231592  \n",
       "min         1.000000     0.000000     0.000000  \n",
       "25%         2.000000     1.000000     0.000000  \n",
       "50%         2.000000     1.000000     0.000000  \n",
       "75%         3.000000     1.000000     0.000000  \n",
       "max        21.000000    19.000000     3.000000  "
      ]
     },
     "execution_count": 11,
     "metadata": {},
     "output_type": "execute_result"
    }
   ],
   "source": [
    "df.describe()"
   ]
  },
  {
   "cell_type": "code",
   "execution_count": 12,
   "metadata": {},
   "outputs": [
    {
     "data": {
      "text/plain": [
       "0"
      ]
     },
     "execution_count": 12,
     "metadata": {},
     "output_type": "execute_result"
    }
   ],
   "source": [
    "df.duplicated().sum()"
   ]
  },
  {
   "cell_type": "code",
   "execution_count": 13,
   "metadata": {},
   "outputs": [
    {
     "data": {
      "text/plain": [
       "Unnamed: 0       0.624149\n",
       "coordL           0.002402\n",
       "coordW           0.000441\n",
       "month            1.000000\n",
       "NVehicles       -0.009745\n",
       "NPatricipants   -0.010893\n",
       "NInjured        -0.011019\n",
       "NFatal           0.005819\n",
       "Name: month, dtype: float64"
      ]
     },
     "execution_count": 13,
     "metadata": {},
     "output_type": "execute_result"
    }
   ],
   "source": [
    "df.corr(numeric_only = True)['month']"
   ]
  },
  {
   "cell_type": "code",
   "execution_count": 14,
   "metadata": {},
   "outputs": [
    {
     "data": {
      "text/plain": [
       "<Axes: xlabel='month'>"
      ]
     },
     "execution_count": 14,
     "metadata": {},
     "output_type": "execute_result"
    },
    {
     "data": {
      "image/png": "[encoded data removed]",
      "text/plain": [
       "<Figure size 640x480 with 1 Axes>"
      ]
     },
     "metadata": {},
     "output_type": "display_data"
    }
   ],
   "source": [
    "df['month'].value_counts().plot(kind='bar')"
   ]
  }
 ],
 "metadata": {
  "kernelspec": {
   "display_name": "Python 3",
   "language": "python",
   "name": "python3"
  },
  "language_info": {
   "codemirror_mode": {
    "name": "ipython",
    "version": 3
   },
   "file_extension": ".py",
   "mimetype": "text/x-python",
   "name": "python",
   "nbconvert_exporter": "python",
   "pygments_lexer": "ipython3",
   "version": "3.10.8"
  },
  "orig_nbformat": 4
 },
 "nbformat": 4,
 "nbformat_minor": 2
}
